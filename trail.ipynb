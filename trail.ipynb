{
 "cells": [
  {
   "cell_type": "code",
   "execution_count": 10,
   "id": "a40e5d6d",
   "metadata": {},
   "outputs": [],
   "source": [
    "from sklearn.datasets import fetch_20newsgroups\n",
    "from hmmlearn import hmm\n",
    "from sklearn.feature_extraction.text import CountVectorizer\n",
    "from sklearn.metrics import accuracy_score\n",
    "from sklearn.naive_bayes import GaussianNB\n",
    "from sklearn.model_selection import train_test_split\n",
    "import numpy as np"
   ]
  },
  {
   "cell_type": "code",
   "execution_count": 12,
   "id": "85b07a37",
   "metadata": {},
   "outputs": [
    {
     "name": "stderr",
     "output_type": "stream",
     "text": [
      "Model is not converging.  Current: 56804777.17999921 is not greater than 56804777.179999545. Delta is -3.3527612686157227e-07\n"
     ]
    },
    {
     "name": "stdout",
     "output_type": "stream",
     "text": [
      "Hybrid model accuracy: 0.4872881355932203\n"
     ]
    }
   ],
   "source": [
    "# Import libraries\n",
    "from sklearn.datasets import fetch_20newsgroups\n",
    "from sklearn.feature_extraction.text import CountVectorizer\n",
    "from sklearn.model_selection import train_test_split\n",
    "from sklearn.naive_bayes import GaussianNB\n",
    "from sklearn.metrics import accuracy_score\n",
    "from hmmlearn.hmm import GaussianHMM\n",
    "import numpy as np\n",
    "\n",
    "# Load dataset\n",
    "data = fetch_20newsgroups(categories=['comp.graphics', 'sci.med'], remove=('headers', 'footers', 'quotes'))\n",
    "labels = [0 if target == 0 else 1 for target in data.target]  # Ensure labels are correctly mapped\n",
    "\n",
    "# Preprocess data\n",
    "vectorizer = CountVectorizer()\n",
    "X = vectorizer.fit_transform(data.data).toarray()\n",
    "\n",
    "# Train HMM to extract features\n",
    "hmm = GaussianHMM(n_components=3, covariance_type=\"diag\", n_iter=100)\n",
    "hmm.fit(X)  # Fit the HMM on the entire dataset\n",
    "features = hmm.predict(X).reshape(-1, 1)  # Predict to get sequence features\n",
    "\n",
    "# Train Naive Bayes on HMM features\n",
    "X_train, X_test, y_train, y_test = train_test_split(features, labels, test_size=0.2, random_state=42)\n",
    "nb_model = GaussianNB()\n",
    "nb_model.fit(X_train, y_train)\n",
    "\n",
    "# Test hybrid model\n",
    "preds = nb_model.predict(X_test)\n",
    "print(\"Hybrid model accuracy:\", accuracy_score(y_test, preds))"
   ]
  },
  {
   "cell_type": "code",
   "execution_count": null,
   "id": "372c7d7e",
   "metadata": {},
   "outputs": [],
   "source": []
  }
 ],
 "metadata": {
  "kernelspec": {
   "display_name": ".venv",
   "language": "python",
   "name": "python3"
  },
  "language_info": {
   "codemirror_mode": {
    "name": "ipython",
    "version": 3
   },
   "file_extension": ".py",
   "mimetype": "text/x-python",
   "name": "python",
   "nbconvert_exporter": "python",
   "pygments_lexer": "ipython3",
   "version": "3.12.0"
  }
 },
 "nbformat": 4,
 "nbformat_minor": 5
}
